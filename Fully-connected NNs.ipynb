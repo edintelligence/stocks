{
 "cells": [
  {
   "cell_type": "code",
   "execution_count": 22,
   "metadata": {
    "collapsed": false,
    "scrolled": true
   },
   "outputs": [
    {
     "name": "stdout",
     "output_type": "stream",
     "text": [
      "testing 1\n",
      "training model\n",
      "Epoch 1/5\n",
      "3534/3534 [==============================] - 1s - loss: 0.7702 - acc: 0.4966     \n",
      "Epoch 2/5\n",
      "3534/3534 [==============================] - 0s - loss: 0.7167 - acc: 0.5150     \n",
      "Epoch 3/5\n",
      "3534/3534 [==============================] - 0s - loss: 0.7217 - acc: 0.5068     \n",
      "Epoch 4/5\n",
      "3534/3534 [==============================] - 0s - loss: 0.7139 - acc: 0.5170     \n",
      "Epoch 5/5\n",
      "3534/3534 [==============================] - 1s - loss: 0.7062 - acc: 0.5224     \n",
      "testing 2\n",
      "training model\n",
      "Epoch 1/5\n",
      "3533/3533 [==============================] - 3s - loss: 0.7711 - acc: 0.4965     \n",
      "Epoch 2/5\n",
      "3533/3533 [==============================] - 3s - loss: 0.7319 - acc: 0.4965     \n",
      "Epoch 3/5\n",
      "3533/3533 [==============================] - 4s - loss: 0.7284 - acc: 0.5047     \n",
      "Epoch 4/5\n",
      "3533/3533 [==============================] - 3s - loss: 0.7182 - acc: 0.5027     \n",
      "Epoch 5/5\n",
      "3533/3533 [==============================] - 3s - loss: 0.7130 - acc: 0.4984     \n",
      "testing 4\n",
      "training model\n",
      "Epoch 1/5\n",
      "3531/3531 [==============================] - 9s - loss: 0.7519 - acc: 0.5010     \n",
      "Epoch 2/5\n",
      "3531/3531 [==============================] - 8s - loss: 0.7349 - acc: 0.4831     \n",
      "Epoch 3/5\n",
      "3531/3531 [==============================] - 8s - loss: 0.7158 - acc: 0.5033     \n",
      "Epoch 4/5\n",
      "3531/3531 [==============================] - 9s - loss: 0.7099 - acc: 0.5109     \n",
      "Epoch 5/5\n",
      "3531/3531 [==============================] - 8s - loss: 0.7096 - acc: 0.5069     \n",
      "time horizon    | shape           | test ratio | score\n",
      "--------------------------------------------\n",
      "1               | (3534, 388)     | 0.533163265306 | 0.479591836735\n",
      "2               | (3533, 1940)    | 0.573979591837 | 0.426020408163\n",
      "4               | (3531, 5044)    | 0.507653061224 | 0.492346938776\n"
     ]
    }
   ],
   "source": [
    "from framework.dataprovider import *\n",
    "from keras.models import Sequential\n",
    "from keras.layers.core import Dense, Activation\n",
    "from keras.optimizers import SGD\n",
    "import numpy as np\n",
    "\n",
    "rng = np.random.RandomState(123456)\n",
    "\n",
    "timehorizons = [1, 2, 4, 10, 25, 50, 100]\n",
    "timehorizons = [1, 2, 4]\n",
    "shapes = []\n",
    "scores = []\n",
    "testRatios = []\n",
    "numEpochs = 5\n",
    "\n",
    "for timehorizon in timehorizons:\n",
    "    print 'testing %s' % timehorizon\n",
    "    rng.seed(123456)\n",
    "    dp = TimeWindowDataProvider(timehorizon, rng=rng)\n",
    "    data, targets = dp.getTrainingData()\n",
    "    shapes.append(data.shape)\n",
    "    model = Sequential()\n",
    "    model.add(Dense(output_dim=300, input_dim=data.shape[1], init=\"he_normal\"))\n",
    "    model.add(Activation(\"sigmoid\"))\n",
    "    model.add(Dense(output_dim=300, input_dim=300, init=\"he_normal\"))\n",
    "    model.add(Activation(\"sigmoid\"))\n",
    "    model.add(Dense(output_dim=300, input_dim=300, init=\"he_normal\"))\n",
    "    model.add(Activation(\"sigmoid\"))\n",
    "    model.add(Dense(output_dim=2, init=\"he_normal\"))\n",
    "    model.add(Activation(\"softmax\"))\n",
    "    \n",
    "    #sgd = SGD(lr=0.1, decay=1e-2, momentum=0.5, nesterov=True)\n",
    "    model.compile(loss='categorical_crossentropy', optimizer='rmsprop')\n",
    "    print 'training model'\n",
    "    model.fit(data, targets, show_accuracy=True, nb_epoch=numEpochs)\n",
    "    \n",
    "    testData, testTargets = dp.getTestData()\n",
    "    testRatios.append(float(np.sum(testTargets[:,0]))/testTargets.shape[0])\n",
    "    predictions = model.predict(testData)\n",
    "    ac = np.argmax(predictions, axis=-1)\n",
    "    score = np.sum(testTargets[xrange(ac.shape[0]), ac])/float(testTargets.shape[0])\n",
    "    \n",
    "    #score = model.evaluate(testData, testTargets)\n",
    "    scores.append(score)\n",
    "    \n",
    "print \"%-15s | %-15s | %-10s | %-5s\" % ('time horizon', 'shape', 'test ratio', 'score')\n",
    "print '--------------------------------------------'\n",
    "for i in xrange(len(timehorizons)):\n",
    "    print \"%-15s | %-15s | %-10s | %-5s\" % (timehorizons[i], shapes[i], testRatios[i], scores[i])\n"
   ]
  },
  {
   "cell_type": "code",
   "execution_count": 19,
   "metadata": {
    "collapsed": false
   },
   "outputs": [
    {
     "name": "stdout",
     "output_type": "stream",
     "text": [
      "time horizon    | shape           | test ratio | added      | score\n",
      "--------------------------------------------\n",
      "1               | (3534, 388)     | 0.53316327 | 1.25888377 | 0.72572050\n",
      "2               | (3533, 1940)    | 0.57397959 | 1.31394959 | 0.73997000\n",
      "4               | (3531, 5044)    | 0.50765306 | 1.20084993 | 0.69319687\n"
     ]
    }
   ],
   "source": [
    "print \"%-15s | %-15s | %-10s | %-10s | %-5s\" % ('time horizon', 'shape', 'test ratio', 'added', 'score')\n",
    "print '--------------------------------------------'\n",
    "for i in xrange(len(timehorizons)):\n",
    "    print \"%-15s | %-15s | %.8f | %.8f | %.8f\" % (timehorizons[i], shapes[i], testRatios[i], testRatios[i] + scores[i], scores[i])"
   ]
  },
  {
   "cell_type": "code",
   "execution_count": 10,
   "metadata": {
    "collapsed": true
   },
   "outputs": [],
   "source": [
    "predictions = model.predict(testData)"
   ]
  },
  {
   "cell_type": "code",
   "execution_count": 18,
   "metadata": {
    "collapsed": false
   },
   "outputs": [
    {
     "name": "stdout",
     "output_type": "stream",
     "text": [
      "(array([ 0.62336582,  0.37663418]), array([ 1.,  0.]))\n",
      "(array([ 0.62336582,  0.37663418]), array([ 0.,  1.]))\n",
      "(array([ 0.6235494,  0.3764506]), array([ 1.,  0.]))\n",
      "(array([ 0.6235494,  0.3764506]), array([ 0.,  1.]))\n",
      "(array([ 0.62336582,  0.37663418]), array([ 0.,  1.]))\n",
      "(array([ 0.6235494,  0.3764506]), array([ 1.,  0.]))\n",
      "(array([ 0.6235494,  0.3764506]), array([ 0.,  1.]))\n",
      "(array([ 0.62336582,  0.37663418]), array([ 1.,  0.]))\n",
      "(array([ 0.62336582,  0.37663418]), array([ 1.,  0.]))\n",
      "(array([ 0.62336582,  0.37663418]), array([ 1.,  0.]))\n"
     ]
    }
   ],
   "source": [
    "for elem in zip(predictions[:10], testTargets[:10]):\n",
    "    print elem"
   ]
  },
  {
   "cell_type": "code",
   "execution_count": null,
   "metadata": {
    "collapsed": true
   },
   "outputs": [],
   "source": []
  }
 ],
 "metadata": {
  "kernelspec": {
   "display_name": "Python 2",
   "language": "python",
   "name": "python2"
  },
  "language_info": {
   "codemirror_mode": {
    "name": "ipython",
    "version": 2
   },
   "file_extension": ".py",
   "mimetype": "text/x-python",
   "name": "python",
   "nbconvert_exporter": "python",
   "pygments_lexer": "ipython2",
   "version": "2.7.11"
  }
 },
 "nbformat": 4,
 "nbformat_minor": 0
}
