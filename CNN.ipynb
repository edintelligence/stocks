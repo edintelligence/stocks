{
 "cells": [
  {
   "cell_type": "code",
   "execution_count": null,
   "metadata": {
    "collapsed": false
   },
   "outputs": [
    {
     "name": "stdout",
     "output_type": "stream",
     "text": [
      "testing 1\n",
      "(1, 388, 4)\n",
      "training model\n",
      "Epoch 1/5\n",
      "3534/3534 [==============================] - 0s - loss: 1.1153 - acc: 0.4997     \n",
      "Epoch 2/5\n",
      "3534/3534 [==============================] - 0s - loss: 0.7288 - acc: 0.5003     \n",
      "Epoch 3/5\n",
      "3534/3534 [==============================] - 0s - loss: 0.6988 - acc: 0.5161     \n",
      "Epoch 4/5\n",
      "3534/3534 [==============================] - 0s - loss: 0.6926 - acc: 0.5161     \n",
      "Epoch 5/5\n",
      "3534/3534 [==============================] - 0s - loss: 0.6924 - acc: 0.5192     \n",
      "testing 2\n",
      "(2, 388, 4)\n",
      "training model\n",
      "Epoch 1/5\n",
      "2304/3533 [==================>...........] - ETA: 0s - loss: 8.0342 - acc: 0.4809"
     ]
    }
   ],
   "source": [
    "from framework.dataprovider import *\n",
    "from keras.models import Sequential\n",
    "from keras.layers.core import Dense, Activation, Reshape\n",
    "from keras.layers.convolutional import Convolution2D, AveragePooling2D\n",
    "from keras.optimizers import SGD\n",
    "import numpy as np\n",
    "\n",
    "rng = np.random.RandomState(123456)\n",
    "\n",
    "timehorizons = [1, 2, 4, 10, 25, 50, 100]\n",
    "#timehorizons = [1, 2, 4]\n",
    "shapes = []\n",
    "scores = []\n",
    "testRatios = []\n",
    "numEpochs = 5\n",
    "\n",
    "for timehorizon in timehorizons:\n",
    "    print 'testing %s' % timehorizon\n",
    "    rng.seed(123456)\n",
    "    dp = TimeWindow3DDataProvider(timehorizon, rng=rng)\n",
    "    data, targets = dp.getTrainingData()\n",
    "    shapes.append(data.shape)\n",
    "    print data.shape[1:]\n",
    "    model = Sequential()\n",
    "    model.add(Convolution2D(timehorizon, 2, 2, input_shape=data.shape[1:], init=\"he_normal\"))\n",
    "    model.add(Activation(\"tanh\"))\n",
    "    model.add(Convolution2D(timehorizon * 2, 3, 3, init=\"he_normal\"))\n",
    "    model.add(Activation(\"tanh\"))\n",
    "    model.add(Reshape([-1]))\n",
    "    model.add(Dense(output_dim=300, init=\"he_normal\"))\n",
    "    model.add(Activation(\"tanh\"))\n",
    "    model.add(Dense(output_dim=2, init=\"he_normal\"))\n",
    "    model.add(Activation(\"softmax\"))\n",
    "    \n",
    "    #sgd = SGD(lr=0.1, decay=1e-2, momentum=0.5, nesterov=True)\n",
    "    model.compile(loss='categorical_crossentropy', optimizer='rmsprop')\n",
    "    print 'training model'\n",
    "    model.fit(data, targets, show_accuracy=True, nb_epoch=numEpochs)\n",
    "    \n",
    "    testData, testTargets = dp.getTestData()\n",
    "    testRatios.append(float(np.sum(testTargets[:,0]))/testTargets.shape[0])\n",
    "    predictions = model.predict(testData)\n",
    "    ac = np.argmax(predictions, axis=-1)\n",
    "    score = np.sum(testTargets[xrange(ac.shape[0]), ac])/float(testTargets.shape[0])\n",
    "    #score = model.evaluate(testData, testTargets, show_accuracy=1, verbose=1)\n",
    "    scores.append(score)\n",
    "    \n",
    "print \"%-15s | %-15s | %-10s | %-5s\" % ('time horizon', 'shape', 'test ratio', 'score')\n",
    "print '--------------------------------------------'\n",
    "for i in xrange(len(timehorizons)):\n",
    "    print \"%-15s | %-15s | %-10s | %-5s\" % (timehorizons[i], shapes[i], testRatios[i], scores[i])\n",
    "\n"
   ]
  },
  {
   "cell_type": "code",
   "execution_count": 11,
   "metadata": {
    "collapsed": false
   },
   "outputs": [
    {
     "name": "stdout",
     "output_type": "stream",
     "text": [
      "[0 0 0 0 0]\n",
      "[(0, 0), (1, 0), (2, 0), (3, 0), (4, 0)]\n",
      "[ 1.  0.  1.  1.  0.]\n",
      "<enumerate object at 0x1252187d0>\n"
     ]
    }
   ],
   "source": [
    "print ac[:5]\n",
    "print zip(xrange(5), ac[:5])\n",
    "print testTargets[xrange(5), ac[:5]]\n",
    "print enumerate(ac[:5])"
   ]
  },
  {
   "cell_type": "code",
   "execution_count": null,
   "metadata": {
    "collapsed": true
   },
   "outputs": [],
   "source": []
  }
 ],
 "metadata": {
  "kernelspec": {
   "display_name": "Python 2",
   "language": "python",
   "name": "python2"
  },
  "language_info": {
   "codemirror_mode": {
    "name": "ipython",
    "version": 2
   },
   "file_extension": ".py",
   "mimetype": "text/x-python",
   "name": "python",
   "nbconvert_exporter": "python",
   "pygments_lexer": "ipython2",
   "version": "2.7.11"
  }
 },
 "nbformat": 4,
 "nbformat_minor": 0
}
